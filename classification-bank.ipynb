{
 "cells": [
  {
   "cell_type": "code",
   "execution_count": 6,
   "id": "e937b11c",
   "metadata": {},
   "outputs": [],
   "source": [
    "## Importaion du library pandas et numpy\n",
    "import pandas as pd\n",
    "import numpy as np\n",
    "import matplotlib.pyplot as plt\n",
    "import seaborn as sns"
   ]
  },
  {
   "cell_type": "code",
   "execution_count": 9,
   "id": "6082c775",
   "metadata": {},
   "outputs": [
    {
     "data": {
      "text/html": [
       "<div>\n",
       "<style scoped>\n",
       "    .dataframe tbody tr th:only-of-type {\n",
       "        vertical-align: middle;\n",
       "    }\n",
       "\n",
       "    .dataframe tbody tr th {\n",
       "        vertical-align: top;\n",
       "    }\n",
       "\n",
       "    .dataframe thead th {\n",
       "        text-align: right;\n",
       "    }\n",
       "</style>\n",
       "<table border=\"1\" class=\"dataframe\">\n",
       "  <thead>\n",
       "    <tr style=\"text-align: right;\">\n",
       "      <th></th>\n",
       "      <th>Rank</th>\n",
       "      <th>TeamId</th>\n",
       "      <th>TeamName</th>\n",
       "      <th>LastSubmissionDate</th>\n",
       "      <th>Score</th>\n",
       "      <th>SubmissionCount</th>\n",
       "      <th>TeamMemberUserNames</th>\n",
       "    </tr>\n",
       "  </thead>\n",
       "  <tbody>\n",
       "    <tr>\n",
       "      <th>0</th>\n",
       "      <td>1</td>\n",
       "      <td>13306362</td>\n",
       "      <td>Loris benaitier</td>\n",
       "      <td>2025-03-09 21:33:33</td>\n",
       "      <td>0.66542</td>\n",
       "      <td>29</td>\n",
       "      <td>lorisbenaitier</td>\n",
       "    </tr>\n",
       "    <tr>\n",
       "      <th>1</th>\n",
       "      <td>2</td>\n",
       "      <td>13354333</td>\n",
       "      <td>Anto!ne</td>\n",
       "      <td>2025-03-28 10:04:46</td>\n",
       "      <td>0.66495</td>\n",
       "      <td>27</td>\n",
       "      <td>antoineams</td>\n",
       "    </tr>\n",
       "    <tr>\n",
       "      <th>2</th>\n",
       "      <td>3</td>\n",
       "      <td>13303994</td>\n",
       "      <td>Azerta</td>\n",
       "      <td>2025-03-13 22:56:29</td>\n",
       "      <td>0.66483</td>\n",
       "      <td>26</td>\n",
       "      <td>azerta</td>\n",
       "    </tr>\n",
       "    <tr>\n",
       "      <th>3</th>\n",
       "      <td>4</td>\n",
       "      <td>13300333</td>\n",
       "      <td>Anthony Flores</td>\n",
       "      <td>2025-03-02 18:59:49</td>\n",
       "      <td>0.66444</td>\n",
       "      <td>54</td>\n",
       "      <td>aflores</td>\n",
       "    </tr>\n",
       "    <tr>\n",
       "      <th>4</th>\n",
       "      <td>5</td>\n",
       "      <td>13894778</td>\n",
       "      <td>ChrisDLX</td>\n",
       "      <td>2025-06-10 17:39:21</td>\n",
       "      <td>0.66402</td>\n",
       "      <td>6</td>\n",
       "      <td>chrisdlx</td>\n",
       "    </tr>\n",
       "  </tbody>\n",
       "</table>\n",
       "</div>"
      ],
      "text/plain": [
       "   Rank    TeamId         TeamName   LastSubmissionDate    Score  \\\n",
       "0     1  13306362  Loris benaitier  2025-03-09 21:33:33  0.66542   \n",
       "1     2  13354333          Anto!ne  2025-03-28 10:04:46  0.66495   \n",
       "2     3  13303994           Azerta  2025-03-13 22:56:29  0.66483   \n",
       "3     4  13300333   Anthony Flores  2025-03-02 18:59:49  0.66444   \n",
       "4     5  13894778         ChrisDLX  2025-06-10 17:39:21  0.66402   \n",
       "\n",
       "   SubmissionCount TeamMemberUserNames  \n",
       "0               29      lorisbenaitier  \n",
       "1               27          antoineams  \n",
       "2               26              azerta  \n",
       "3               54             aflores  \n",
       "4                6            chrisdlx  "
      ]
     },
     "execution_count": 9,
     "metadata": {},
     "output_type": "execute_result"
    }
   ],
   "source": [
    "# Chargement des données\n",
    "df = pd.read_csv(\"data/mlpro-classification-bank-churn-2025-publicleaderboard-2025-07-26T07_58_25.csv\")\n",
    "df.head()"
   ]
  }
 ],
 "metadata": {
  "kernelspec": {
   "display_name": "mlpro-classification-bancaire-churn-2025-py3.10",
   "language": "python",
   "name": "python3"
  },
  "language_info": {
   "codemirror_mode": {
    "name": "ipython",
    "version": 3
   },
   "file_extension": ".py",
   "mimetype": "text/x-python",
   "name": "python",
   "nbconvert_exporter": "python",
   "pygments_lexer": "ipython3",
   "version": "3.10.3"
  }
 },
 "nbformat": 4,
 "nbformat_minor": 5
}
